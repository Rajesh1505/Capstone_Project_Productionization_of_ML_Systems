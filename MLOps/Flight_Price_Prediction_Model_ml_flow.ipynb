{
 "cells": [
  {
   "cell_type": "markdown",
   "id": "b4f9d400",
   "metadata": {},
   "source": [
    "<h2 align='center'>Flight_Price_Prediction_Model ML Flow</h2>"
   ]
  },
  {
   "cell_type": "code",
   "execution_count": 15,
   "id": "5eb3c2b2",
   "metadata": {},
   "outputs": [],
   "source": [
    "# Import Libraries\n",
    "import pandas as pd\n",
    "import numpy as np\n",
    "\n",
    "from sklearn.preprocessing import OneHotEncoder\n",
    "from sklearn.ensemble import RandomForestRegressor, GradientBoostingRegressor\n",
    "from sklearn.tree import DecisionTreeRegressor\n",
    "from sklearn.linear_model import LinearRegression\n",
    "from sklearn.model_selection import train_test_split\n",
    "from sklearn.metrics import mean_squared_error, mean_absolute_error, r2_score\n",
    "\n",
    "from joblib import dump, load\n",
    "\n",
    "import warnings\n",
    "warnings.filterwarnings(\"ignore\")"
   ]
  },
  {
   "cell_type": "code",
   "execution_count": 16,
   "id": "867f29fc",
   "metadata": {},
   "outputs": [],
   "source": [
    "# Load Dataset\n",
    "flights_dataset = pd.read_csv(\"flights.csv\", parse_dates=['date'])"
   ]
  },
  {
   "cell_type": "code",
   "execution_count": 17,
   "id": "1974577d",
   "metadata": {},
   "outputs": [],
   "source": [
    "# one hot encoding categorical variables\n",
    "ohe = OneHotEncoder(drop='first')\n",
    "ohe.fit(flights_dataset[['from', 'to', 'flightType', 'agency']])\n",
    "encoded_var = ohe.transform(flights_dataset[['from', 'to', 'flightType', 'agency']])\n",
    "encoded_df = pd.DataFrame(encoded_var.toarray(), columns=ohe.get_feature_names_out(), dtype=int)"
   ]
  },
  {
   "cell_type": "code",
   "execution_count": 18,
   "id": "8c0e1c51",
   "metadata": {},
   "outputs": [],
   "source": [
    "# merge encoded_variables with main dataframe\n",
    "flights_dataset = pd.concat([flights_dataset,encoded_df], axis=1)\n",
    "\n",
    "# drop encoded_variables original columns from main dataframe\n",
    "flights_dataset.drop(columns=['from', 'to', 'flightType', 'agency'], inplace=True)"
   ]
  },
  {
   "cell_type": "code",
   "execution_count": 19,
   "id": "006e433b",
   "metadata": {},
   "outputs": [],
   "source": [
    "# Separate features and target variable\n",
    "X = flights_dataset.drop(['date','price'], axis=1)\n",
    "y = flights_dataset['price']\n",
    "\n",
    "# Split the data into training and testing sets\n",
    "X_train, X_test, y_train, y_test = train_test_split(X, y, test_size=0.2, random_state=42)"
   ]
  },
  {
   "cell_type": "code",
   "execution_count": 20,
   "id": "dd93272b",
   "metadata": {},
   "outputs": [],
   "source": [
    "# ML Model - 2 Implementation\n",
    "# Initialize Random Forest Regressor\n",
    "rf_model = RandomForestRegressor(random_state=42)\n",
    "\n",
    "# Fit the Algorithm\n",
    "rf_model.fit(X_train, y_train)\n",
    "\n",
    "# Predict on the model\n",
    "y_pred_rf = rf_model.predict(X_test)"
   ]
  },
  {
   "cell_type": "code",
   "execution_count": 21,
   "id": "a098c676",
   "metadata": {},
   "outputs": [
    {
     "name": "stdout",
     "output_type": "stream",
     "text": [
      "Random Forest Model Evaluation Metrics:\n",
      "Mean Squared Error (MSE): 0.11533580459763008\n",
      "Mean Absolute Error (MAE): 0.004339021298612483\n",
      "R-squared (R2) Score: 0.9999991247135043\n"
     ]
    }
   ],
   "source": [
    "# Evaluation Metrics\n",
    "mse_rf = mean_squared_error(y_test, y_pred_rf)\n",
    "mae_rf = mean_absolute_error(y_test, y_pred_rf)\n",
    "r2_rf = r2_score(y_test, y_pred_rf)\n",
    "\n",
    "# evaluation Metric Score\n",
    "print(\"Random Forest Model Evaluation Metrics:\")\n",
    "print(\"Mean Squared Error (MSE):\", mse_rf)\n",
    "print(\"Mean Absolute Error (MAE):\", mae_rf)\n",
    "print(\"R-squared (R2) Score:\", r2_rf)\n",
    "\n",
    "# dump(rf_model, 'rf_model.joblib') # save the rf_model model\n",
    "# dump(ohe, 'cat_encoder.joblib') # save the categorical encoder"
   ]
  },
  {
   "cell_type": "markdown",
   "id": "bf5c6181",
   "metadata": {},
   "source": [
    "### Track Experiments"
   ]
  },
  {
   "cell_type": "code",
   "execution_count": 22,
   "id": "35d261b3",
   "metadata": {},
   "outputs": [
    {
     "data": {
      "text/html": [
       "<pre style=\"white-space:pre;overflow-x:auto;line-height:normal;font-family:Menlo,'DejaVu Sans Mono',consolas,'Courier New',monospace\">Initialized MLflow to track repo <span style=\"color: #008000; text-decoration-color: #008000\">\"Rajesh1505/Flight_Price_Prediction_Model\"</span>\n",
       "</pre>\n"
      ],
      "text/plain": [
       "Initialized MLflow to track repo \u001b[32m\"Rajesh1505/Flight_Price_Prediction_Model\"\u001b[0m\n"
      ]
     },
     "metadata": {},
     "output_type": "display_data"
    },
    {
     "data": {
      "text/html": [
       "<pre style=\"white-space:pre;overflow-x:auto;line-height:normal;font-family:Menlo,'DejaVu Sans Mono',consolas,'Courier New',monospace\">Repository Rajesh1505/Flight_Price_Prediction_Model initialized!\n",
       "</pre>\n"
      ],
      "text/plain": [
       "Repository Rajesh1505/Flight_Price_Prediction_Model initialized!\n"
      ]
     },
     "metadata": {},
     "output_type": "display_data"
    }
   ],
   "source": [
    "import mlflow\n",
    "import mlflow.sklearn\n",
    "\n",
    "# dagshub setup\n",
    "import dagshub\n",
    "dagshub.init(repo_owner='Rajesh1505', repo_name='Flight_Price_Prediction_Model', mlflow=True)"
   ]
  },
  {
   "cell_type": "code",
   "execution_count": 23,
   "id": "c880f602",
   "metadata": {},
   "outputs": [],
   "source": [
    "# Models list with details for tracking\n",
    "models = [\n",
    "    (\n",
    "        \"Decision Tree Regressor\",\n",
    "        {\"random_state\": 45},\n",
    "        DecisionTreeRegressor(random_state=45),\n",
    "    ),\n",
    "    (\n",
    "        \"Random Forest Regressor\",\n",
    "        {\"random_state\": 45},\n",
    "        RandomForestRegressor(random_state=45),\n",
    "    ),\n",
    "    (\n",
    "        \"Gradient Boosting Regressor\",\n",
    "        {\"random_state\": 45},\n",
    "        GradientBoostingRegressor(random_state=45),\n",
    "    ),\n",
    "    (\n",
    "        \"Linear Regression\",\n",
    "        {},\n",
    "        LinearRegression(),\n",
    "    )\n",
    "]"
   ]
  },
  {
   "cell_type": "code",
   "execution_count": 24,
   "id": "3c812558",
   "metadata": {},
   "outputs": [
    {
     "name": "stdout",
     "output_type": "stream",
     "text": [
      "\n",
      "\n",
      "\n",
      "Decision Tree Regressor Evaluation Metrics:\n",
      "Mean Squared Error (MSE): 0.3366748023097551\n",
      "Mean Absolute Error (MAE): 0.003367538348791879\n",
      "R-squared (R2) Score: 0.9999974449659501\n",
      "\n"
     ]
    },
    {
     "name": "stderr",
     "output_type": "stream",
     "text": [
      "2025/01/18 15:41:24 WARNING mlflow.models.model: Model logged without a signature and input example. Please set `input_example` parameter when logging the model to auto infer the model signature.\n"
     ]
    },
    {
     "name": "stdout",
     "output_type": "stream",
     "text": [
      "🏃 View run Decision Tree Regressor at: https://dagshub.com/Rajesh1505/Flight_Price_Prediction_Model.mlflow/#/experiments/0/runs/aba8128cbdc045cc81d67f00ccf0e7ec\n",
      "🧪 View experiment at: https://dagshub.com/Rajesh1505/Flight_Price_Prediction_Model.mlflow/#/experiments/0\n",
      "\n",
      "\n",
      "\n",
      "Random Forest Regressor Evaluation Metrics:\n",
      "Mean Squared Error (MSE): 0.13760743201018724\n",
      "Mean Absolute Error (MAE): 0.003806780318806686\n",
      "R-squared (R2) Score: 0.9999989556935301\n",
      "\n"
     ]
    },
    {
     "name": "stderr",
     "output_type": "stream",
     "text": [
      "2025/01/18 15:42:18 WARNING mlflow.models.model: Model logged without a signature and input example. Please set `input_example` parameter when logging the model to auto infer the model signature.\n"
     ]
    },
    {
     "name": "stdout",
     "output_type": "stream",
     "text": [
      "🏃 View run Random Forest Regressor at: https://dagshub.com/Rajesh1505/Flight_Price_Prediction_Model.mlflow/#/experiments/0/runs/c3264fb34a7c4fbf9743a297e7de27cf\n",
      "🧪 View experiment at: https://dagshub.com/Rajesh1505/Flight_Price_Prediction_Model.mlflow/#/experiments/0\n",
      "\n",
      "\n",
      "\n",
      "Gradient Boosting Regressor Evaluation Metrics:\n",
      "Mean Squared Error (MSE): 1900.569464298239\n",
      "Mean Absolute Error (MAE): 34.498375451450144\n",
      "R-squared (R2) Score: 0.9855765276698222\n",
      "\n"
     ]
    },
    {
     "name": "stderr",
     "output_type": "stream",
     "text": [
      "2025/01/18 15:42:52 WARNING mlflow.models.model: Model logged without a signature and input example. Please set `input_example` parameter when logging the model to auto infer the model signature.\n"
     ]
    },
    {
     "name": "stdout",
     "output_type": "stream",
     "text": [
      "🏃 View run Gradient Boosting Regressor at: https://dagshub.com/Rajesh1505/Flight_Price_Prediction_Model.mlflow/#/experiments/0/runs/6a5ef8c6103340e59d11d588ec47fabe\n",
      "🧪 View experiment at: https://dagshub.com/Rajesh1505/Flight_Price_Prediction_Model.mlflow/#/experiments/0\n",
      "\n",
      "\n",
      "\n",
      "Linear Regression Evaluation Metrics:\n",
      "Mean Squared Error (MSE): 10640.016681277286\n",
      "Mean Absolute Error (MAE): 81.32658135983428\n",
      "R-squared (R2) Score: 0.9192526297628911\n",
      "\n"
     ]
    },
    {
     "name": "stderr",
     "output_type": "stream",
     "text": [
      "2025/01/18 15:43:01 WARNING mlflow.models.model: Model logged without a signature and input example. Please set `input_example` parameter when logging the model to auto infer the model signature.\n"
     ]
    },
    {
     "name": "stdout",
     "output_type": "stream",
     "text": [
      "🏃 View run Linear Regression at: https://dagshub.com/Rajesh1505/Flight_Price_Prediction_Model.mlflow/#/experiments/0/runs/3c3c3685871a44b99aa1bd70874ae9f8\n",
      "🧪 View experiment at: https://dagshub.com/Rajesh1505/Flight_Price_Prediction_Model.mlflow/#/experiments/0\n"
     ]
    }
   ],
   "source": [
    "# Initialize MLflow\n",
    "mlflow.set_experiment(\"Regression Model Evaluation\")\n",
    "\n",
    "for model_name, params, model in models:\n",
    "    # Train the model\n",
    "    model.set_params(**params)\n",
    "    model.fit(X_train, y_train)\n",
    "    \n",
    "    # Predict and evaluate\n",
    "    y_pred = model.predict(X_test)\n",
    "    mse = mean_squared_error(y_test, y_pred)\n",
    "    mae = mean_absolute_error(y_test, y_pred)\n",
    "    r2 = r2_score(y_test, y_pred)\n",
    "\n",
    "    print(\"\\n\\n\")\n",
    "    print(f\"{model_name} Evaluation Metrics:\")\n",
    "    print(f\"Mean Squared Error (MSE): {mse}\")\n",
    "    print(f\"Mean Absolute Error (MAE): {mae}\")\n",
    "    print(f\"R-squared (R2) Score: {r2}\\n\")\n",
    "\n",
    "    # Log results in MLflow\n",
    "    with mlflow.start_run(run_name=model_name):\n",
    "        mlflow.log_params(params)\n",
    "        mlflow.log_metrics({\n",
    "            \"mean_squared_error\": mse,\n",
    "            \"mean_absolute_error\": mae,\n",
    "            \"r2_score\": r2\n",
    "        })\n",
    "\n",
    "        # Log the model\n",
    "        mlflow.sklearn.log_model(model, \"model\")\n"
   ]
  },
  {
   "cell_type": "code",
   "execution_count": null,
   "id": "b556c87c",
   "metadata": {},
   "outputs": [],
   "source": []
  },
  {
   "cell_type": "markdown",
   "id": "095be90b",
   "metadata": {},
   "source": [
    "View ML Flow experiment at: https://dagshub.com/Rajesh1505/Flight_Price_Prediction_Model.mlflow"
   ]
  },
  {
   "cell_type": "code",
   "execution_count": null,
   "id": "27f92707",
   "metadata": {},
   "outputs": [],
   "source": []
  }
 ],
 "metadata": {
  "kernelspec": {
   "display_name": "Python 3",
   "language": "python",
   "name": "python3"
  },
  "language_info": {
   "codemirror_mode": {
    "name": "ipython",
    "version": 3
   },
   "file_extension": ".py",
   "mimetype": "text/x-python",
   "name": "python",
   "nbconvert_exporter": "python",
   "pygments_lexer": "ipython3",
   "version": "3.9.21"
  }
 },
 "nbformat": 4,
 "nbformat_minor": 5
}
