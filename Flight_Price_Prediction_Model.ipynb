{
  "nbformat": 4,
  "nbformat_minor": 0,
  "metadata": {
    "colab": {
      "provenance": [],
      "mount_file_id": "1qAbzb-qY6BHC14BjDXIxJe6m-_UeTRRs",
      "authorship_tag": "ABX9TyNfrDp+DGVrRS8pkCmpPtwE"
    },
    "kernelspec": {
      "name": "python3",
      "display_name": "Python 3"
    },
    "language_info": {
      "name": "python"
    }
  },
  "cells": [
    {
      "cell_type": "markdown",
      "source": [
        "# **Project Name**    - Flight Price Prediction Model\n",
        "\n"
      ],
      "metadata": {
        "id": "vncDsAP0Gaoa"
      }
    },
    {
      "cell_type": "markdown",
      "source": [
        "##### **Project Type**    - Productionization of ML Systems\n",
        "##### **Contribution**    - Individual\n",
        "##### **Team Member 1 -** Rajesh Kumar Patel"
      ],
      "metadata": {
        "id": "beRrZCGUAJYm"
      }
    },
    {
      "cell_type": "markdown",
      "source": [
        "## **GitHub Link -** https://github.com/Rajesh1505/Capstone_Project_Productionization_of_ML_Systems.git"
      ],
      "metadata": {
        "id": "w6K7xa23Elo4"
      }
    },
    {
      "cell_type": "markdown",
      "source": [
        "# Project Title:\n",
        "**Voyage Analytics: Integrating MLOps in Travel\n",
        "Productionization of ML Systems**\n",
        "\n"
      ],
      "metadata": {
        "id": "p7HXLDicwnd8"
      }
    },
    {
      "cell_type": "markdown",
      "source": [
        "## Business Context\n",
        "\n",
        "In the realm of travel and tourism, the intersection of data analytics and machine learning presents an opportunity to revolutionize the way travel experiences are curated and delivered. This capstone project revolves around a trio of datasets - users, flights, and hotels - each providing a unique perspective on travel patterns and preferences. The goal is to leverage these datasets to build and deploy sophisticated machine learning models, serving a dual purpose: enhancing predictive capabilities in travel-related decision-making and mastering the art of MLOps through hands-on application.\n",
        "\n",
        "## Brief overview of each datasets\n",
        "#### **Users Dataset:**\n",
        "- code: User identifier.\n",
        "- company: Associated company.\n",
        "- name: Name of the user.\n",
        "- gender: Gender of the user.\n",
        "- age: Age of the user.\n",
        "\n",
        "#### **Flights Dataset:**\n",
        "- travelCode: Identifier for the travel.\n",
        "- userCode: User identifier(linked to the Users dataset)\n",
        "- from: Origin of the flight.\n",
        "- to: Destination of the flight.\n",
        "- flightType: Type of flight (e.g., first class).\n",
        "- price: Price of the flight.\n",
        "- time: Flight duration.\n",
        "- distance: Distance of the flight.\n",
        "- agency: Flight agency.\n",
        "- date: Date of the flight.\n",
        "\n",
        "#### **Hotels Dataset:**\n",
        "- travelCode: Identifier for the travel, similar to the Flights dataset.\n",
        "- userCode: User identifier(linked to the Users dataset)\n",
        "- name: Name of the hotel.\n",
        "- place: Location of the hotel.\n",
        "- days: Number of days of the hotel stay.\n",
        "- price: Price per day.\n",
        "- total: Total price for the stay.\n",
        "- date: Date of the hotel booking.\n",
        "\n",
        "## Project Objectives\n",
        "Build a regression model to predict the price of a flight using the flights.csv dataset. Focus on feature selection, model training, and validation to ensure accuracy and reliability."
      ],
      "metadata": {
        "id": "Ttkq475q1FtE"
      }
    },
    {
      "cell_type": "markdown",
      "source": [
        "# ***Let's Begin !***"
      ],
      "metadata": {
        "id": "O_i_v8NEhb9l"
      }
    },
    {
      "cell_type": "markdown",
      "source": [
        "## ***1. Know Your Data***"
      ],
      "metadata": {
        "id": "HhfV-JJviCcP"
      }
    },
    {
      "cell_type": "markdown",
      "source": [
        "### Import Libraries"
      ],
      "metadata": {
        "id": "Y3lxredqlCYt"
      }
    },
    {
      "cell_type": "code",
      "source": [
        "# Import Libraries\n",
        "import pandas as pd\n",
        "import numpy as np\n",
        "import matplotlib.pyplot as plt\n",
        "import seaborn as sns\n",
        "\n",
        "import warnings\n",
        "warnings.filterwarnings(\"ignore\")"
      ],
      "metadata": {
        "id": "M8Vqi-pPk-HR"
      },
      "execution_count": 1,
      "outputs": []
    },
    {
      "cell_type": "markdown",
      "source": [
        "### Dataset Loading"
      ],
      "metadata": {
        "id": "3RnN4peoiCZX"
      }
    },
    {
      "cell_type": "code",
      "source": [
        "folder_path = \"/content/drive/MyDrive/Colab Notebooks/AB/spec/M1/project/\"\n",
        "\n",
        "!unzip \"/content/drive/MyDrive/Colab Notebooks/AB/spec/M1/project/travel_capstone.zip\""
      ],
      "metadata": {
        "colab": {
          "base_uri": "https://localhost:8080/"
        },
        "id": "XhblktV97Ku1",
        "outputId": "dc214548-7191-4d1a-8e7e-4340f20bcfb8"
      },
      "execution_count": 2,
      "outputs": [
        {
          "output_type": "stream",
          "name": "stdout",
          "text": [
            "Archive:  /content/drive/MyDrive/Colab Notebooks/AB/spec/M1/project/travel_capstone.zip\n",
            "  inflating: flights.csv             \n",
            "  inflating: hotels.csv              \n",
            "  inflating: users.csv               \n"
          ]
        }
      ]
    },
    {
      "cell_type": "code",
      "source": [
        "# Load Dataset\n",
        "flights_dataset = pd.read_csv(\"/content/flights.csv\", parse_dates=['date'])"
      ],
      "metadata": {
        "id": "4CkvbW_SlZ_R"
      },
      "execution_count": 3,
      "outputs": []
    },
    {
      "cell_type": "code",
      "source": [],
      "metadata": {
        "id": "DuZ1BM_a7v-6"
      },
      "execution_count": null,
      "outputs": []
    }
  ]
}